{
 "cells": [
  {
   "cell_type": "markdown",
   "metadata": {},
   "source": [
    "# PREDICT V3"
   ]
  },
  {
   "cell_type": "code",
   "execution_count": 2,
   "metadata": {},
   "outputs": [],
   "source": [
    "import os, shutil\n",
    "import ntpath\n",
    "import sys"
   ]
  },
  {
   "cell_type": "code",
   "execution_count": 4,
   "metadata": {},
   "outputs": [
    {
     "name": "stdout",
     "output_type": "stream",
     "text": [
      "DCM FILES - GOOD FILES = 190; ERRORS = 0; TotalTXT = 190; TotalDir = 190\n",
      "ROI FILES - GOOD FILES = 190; ERRORS = 0; TotalTXT = 190; TotalDir = 190\n"
     ]
    }
   ],
   "source": [
    "\n",
    "dcmdir = r\"F:\\PREDICT\\PREDICT_TOTAL_V3\\PREDICT_TOTAL_V3\\PREDICT_DCM_NII\"\n",
    "dcmfiles = os.listdir(dcmdir)\n",
    "roidir = r\"F:\\PREDICT\\PREDICT_TOTAL_V3\\PREDICT_TOTAL_V3\\PREDICT_ROI_NII\"\n",
    "roifiles = os.listdir(roidir)\n",
    "dcmtxt = open(r\"F:\\PREDICT\\PREDICT_TOTAL_V3\\PREDICT_TOTAL_V3\\dcm_files.txt\", \"r\")\n",
    "roitxt = open(r\"F:\\PREDICT\\PREDICT_TOTAL_V3\\PREDICT_TOTAL_V3\\roi_files.txt\", \"r\")\n",
    "\n",
    "count=0\n",
    "fcount=0\n",
    "errors=0\n",
    "for x in dcmtxt:\n",
    "\n",
    "    \n",
    "    if x.rstrip('\\n') in dcmfiles:\n",
    "        fcount += 1\n",
    "        #print(x.rstrip('\\n')  + \" = GOOD\")\n",
    "    else:\n",
    "        errors += 1\n",
    "        print(x.rstrip('\\n')  + \" = ERROR\")\n",
    "\n",
    "    count += 1\n",
    "\n",
    "print(\"DCM FILES - GOOD FILES = \"+ str(fcount) +\"; ERRORS = \" + str(errors) +\"; TotalTXT = \" + str(count) +\"; TotalDir = \" + str(len(dcmfiles)))\n",
    "\n",
    "count=0\n",
    "fcount=0\n",
    "errors=0\n",
    "for x in roitxt:\n",
    "\n",
    "    \n",
    "    if x.rstrip('\\n') in roifiles:\n",
    "        fcount += 1\n",
    "        #print(x.rstrip('\\n')  + \" = GOOD\")\n",
    "    else:\n",
    "        errors += 1\n",
    "        #print(x.rstrip('\\n')  + \" = ERROR\")\n",
    "\n",
    "    count += 1\n",
    "\n",
    "print(\"ROI FILES - GOOD FILES = \"+ str(fcount) +\"; ERRORS = \" + str(errors) +\"; TotalTXT = \" + str(count) +\"; TotalDir = \" + str(len(roifiles)))\n",
    "\n",
    "## extra check text file matrching line by line\n"
   ]
  },
  {
   "cell_type": "markdown",
   "metadata": {},
   "source": [
    "# SPOTLIGHT V2"
   ]
  },
  {
   "cell_type": "code",
   "execution_count": 31,
   "metadata": {},
   "outputs": [
    {
     "name": "stdout",
     "output_type": "stream",
     "text": [
      "DCM FILES - GOOD FILES = 99; ERRORS = 0; TotalTXT = 99; TotalDir = 99\n",
      "ROI FILES - GOOD FILES = 99; ERRORS = 0; TotalTXT = 99; TotalDir = 99\n"
     ]
    }
   ],
   "source": [
    "\n",
    "dcmdir = r\"F:\\PREDICT\\SPOT-STOP_DCM\\SPOTLIGHT_V2\\SPOTLIGHT_NII_V2\"\n",
    "dcmfiles = os.listdir(dcmdir)\n",
    "roidir = r\"F:\\PREDICT\\SPOT-STOP_DCM\\SPOTLIGHT_V2\\SPOTLIGHT_ROI_NII_V2\"\n",
    "roifiles = os.listdir(roidir)\n",
    "dcmtxt = open(r\"F:\\PREDICT\\SPOT-STOP_DCM\\SPOTLIGHT_V2\\spotlight_images_v2.txt\", \"r\")\n",
    "roitxt = open(r\"F:\\PREDICT\\SPOT-STOP_DCM\\SPOTLIGHT_V2\\spotlight_rois_v2.txt\", \"r\")\n",
    "\n",
    "count=0\n",
    "fcount=0\n",
    "errors=0\n",
    "for x in dcmtxt:\n",
    "\n",
    "    \n",
    "    if x.rstrip('\\n') in dcmfiles:\n",
    "        fcount += 1\n",
    "        #print(x.rstrip('\\n')  + \" = GOOD\")\n",
    "    else:\n",
    "        errors += 1\n",
    "        #print(x.rstrip('\\n')  + \" = ERROR\")\n",
    "\n",
    "    count += 1\n",
    "\n",
    "print(\"DCM FILES - GOOD FILES = \"+ str(fcount) +\"; ERRORS = \" + str(errors) +\"; TotalTXT = \" + str(count) +\"; TotalDir = \" + str(len(dcmfiles)))\n",
    "\n",
    "count=0\n",
    "fcount=0\n",
    "errors=0\n",
    "\n",
    "for x in roitxt:\n",
    "\n",
    "    \n",
    "    if x.rstrip('\\n') in roifiles:\n",
    "        fcount += 1\n",
    "        #print(x.rstrip('\\n')  + \" = GOOD\")\n",
    "    else:\n",
    "        errors += 1\n",
    "        print(x.rstrip('\\n')  + \" = ERROR = count \" + str(count))\n",
    "\n",
    "    count += 1\n",
    "\n",
    "print(\"ROI FILES - GOOD FILES = \"+ str(fcount) +\"; ERRORS = \" + str(errors) +\"; TotalTXT = \" + str(count) +\"; TotalDir = \" + str(len(roifiles)))\n"
   ]
  },
  {
   "cell_type": "code",
   "execution_count": null,
   "metadata": {},
   "outputs": [],
   "source": []
  }
 ],
 "metadata": {
  "kernelspec": {
   "display_name": "Python 3",
   "language": "python",
   "name": "python3"
  },
  "language_info": {
   "codemirror_mode": {
    "name": "ipython",
    "version": 3
   },
   "file_extension": ".py",
   "mimetype": "text/x-python",
   "name": "python",
   "nbconvert_exporter": "python",
   "pygments_lexer": "ipython3",
   "version": "3.7.3"
  }
 },
 "nbformat": 4,
 "nbformat_minor": 4
}
