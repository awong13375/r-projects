{
 "cells": [
  {
   "cell_type": "code",
   "execution_count": 1,
   "metadata": {},
   "outputs": [],
   "source": [
    "import os, shutil\n",
    "import ntpath\n",
    "import sys\n",
    "import subprocess\n",
    "from shutil import copyfile\n",
    "import SimpleITK as sitk\n",
    "import time\n",
    "\n",
    "path = r\"C:\\Users\\alexw\\Desktop\\PREDICT\"\n",
    "\n",
    "for root, dirs, files in os.walk(path, topdown=False):\n",
    "\n",
    "    break\n"
   ]
  },
  {
   "cell_type": "code",
   "execution_count": 2,
   "metadata": {},
   "outputs": [],
   "source": [
    "dcmpath = r\"D:\\Alex Files\\SPOTLIGHT\\SPOTLIGHT\"\n",
    "mhdpath = r\"D:\\Alex Files\\SPOTLIGHT\\SPOTLIGHT_MHD_MAC\"\n",
    "dcmoutputpath = r\"D:\\Alex Files\\SPOTLIGHT\\SPOTLIGHT_DCM_NII\"\n",
    "mhdoutputpath = r\"D:\\Alex Files\\SPOTLIGHT\\SPOTLIGHT_ROI_NII\"\n"
   ]
  },
  {
   "cell_type": "code",
   "execution_count": null,
   "metadata": {},
   "outputs": [],
   "source": [
    "reader = sitk.ImageSeriesReader()\n",
    "reader2 = sitk.ImageFileReader()\n",
    "\n",
    "i=0;\n",
    "for r, d, f in os.walk(dcmpath):\n",
    "    for dir1 in d:\n",
    "        direct1=r+\"\\\\\"+dir1\n",
    "        #print(direct1)\n",
    "        direct1b = direct1.replace('\\\\','\\\\\\\\')\n",
    "        onlyfiles = next(os.walk(direct1b))[2] #dir is your directory path as string\n",
    "        totalfiles = len(onlyfiles)\n",
    "        if totalfiles > 5:\n",
    "            thepath = ntpath.basename(direct1b)\n",
    "            #print(thepath)\n",
    "            dirfiles = os.listdir(direct1b)\n",
    "            #print(dirfiles)\n",
    "            print(direct1b)\n",
    "            dicom_names = reader.GetGDCMSeriesFileNames(direct1b)\n",
    "            reader.SetFileNames(dicom_names)\n",
    "            image = reader.Execute()\n",
    "            size = image.GetSize()\n",
    "            #print(size)\n",
    "            xarr = [];\n",
    "            #get slice details\n",
    "            for x in dirfiles:\n",
    "                #print((direct1b+\"\\\\\\\\\"+x))\n",
    "                reader2.SetFileName(direct1b+\"\\\\\\\\\"+x)\n",
    "                reader2.LoadPrivateTagsOn();\n",
    "                reader2.ReadImageInformation();\n",
    "                xarr.append([{\"slicesnum\":reader2.GetMetaData(\"0020|0013\"),\"slicethick\":reader2.GetMetaData(\"0018|0050\")}])\n",
    "            #print(xarr)\n",
    "            #get name\n",
    "            while True:\n",
    "                direct1b = os.path.dirname(direct1b)\n",
    "                #print(direct1b)\n",
    "                pardir = ntpath.basename(direct1b)\n",
    "                thepath = pardir + \"-\" + thepath\n",
    "                if pardir == \"SPOTLIGHT\":\n",
    "                    print(thepath)\n",
    "                    break\n",
    "            \n",
    "            sitk.WriteImage(image, niipath+\"\\\\\\\\\"+thepath+\".nii\")\n",
    "            i = i+1\n",
    "            \n",
    "print(i);"
   ]
  }
 ],
 "metadata": {
  "kernelspec": {
   "display_name": "Python 3",
   "language": "python",
   "name": "python3"
  },
  "language_info": {
   "codemirror_mode": {
    "name": "ipython",
    "version": 3
   },
   "file_extension": ".py",
   "mimetype": "text/x-python",
   "name": "python",
   "nbconvert_exporter": "python",
   "pygments_lexer": "ipython3",
   "version": "3.7.3"
  }
 },
 "nbformat": 4,
 "nbformat_minor": 2
}
